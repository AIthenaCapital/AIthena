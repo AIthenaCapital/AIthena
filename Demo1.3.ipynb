{
 "cells": [
  {
   "cell_type": "code",
   "execution_count": 168,
   "metadata": {},
   "outputs": [],
   "source": [
    "# importing dependencies \n",
    "\n",
    "import math\n",
    "import numpy as np\n",
    "import matplotlib.pyplot as plt\n",
    "import pandas as pd \n",
    "import tensorflow as tf \n",
    "from tensorflow.python.framework import ops\n",
    "\n",
    "%matplotlib inline"
   ]
  },
  {
   "cell_type": "markdown",
   "metadata": {},
   "source": [
    "## Visualize dataframe"
   ]
  },
  {
   "cell_type": "code",
   "execution_count": 169,
   "metadata": {},
   "outputs": [
    {
     "name": "stdout",
     "output_type": "stream",
     "text": [
      "        Date  Price       RSI  Stedev from 20 MA  MACD n.f  50MA_N.F.  \\\n",
      "0 2011-12-16   3.25  0.514151           0.591527  1.594689   0.500194   \n",
      "1 2011-12-18   3.25  0.443243           0.516482  1.489778   0.571086   \n",
      "2 2011-12-19   3.50  0.511962           1.311777  1.473728   1.266368   \n",
      "3 2011-12-20   4.75  0.822695           3.461711  1.840524   3.831441   \n",
      "4 2011-12-21   4.38  0.753247           2.180044  1.969366   2.760808   \n",
      "\n",
      "   20D PMO  35D PMO        ADX  actions  y-hat  Unnamed: 11  Unnamed: 12  \n",
      "0    3.270     0.59  69.772809      NaN      2            1  2157.000000  \n",
      "1    3.690     0.46  70.038037      NaN      2            1     0.912437  \n",
      "2    4.275     0.67  70.475308      NaN      2            1          NaN  \n",
      "3    5.140     1.55  68.503186      NaN      2            1          NaN  \n",
      "4    5.910     1.28  66.671929      NaN      2            1          NaN  \n"
     ]
    }
   ],
   "source": [
    "# importing data using pandas \n",
    "dfz = pd.read_excel('BTC daily_database.xlsx', sheet_name=0)\n",
    "# testing the input is correct or not\n",
    "print(dfz.head())"
   ]
  },
  {
   "cell_type": "markdown",
   "metadata": {},
   "source": [
    "## Randomize sampling"
   ]
  },
  {
   "cell_type": "code",
   "execution_count": 170,
   "metadata": {},
   "outputs": [],
   "source": [
    "# shuffler() will read the data and randomly organizes it \n",
    "def shuffler(filename):\n",
    "  # Read an Excel table into a pandas DataFrame\n",
    "  # takes the first sheet and header\n",
    "    \n",
    "  dfs = pd.read_excel(filename, sheet_name=0, header=0)\n",
    "  # return the pandas dataframe\n",
    "  # np.random.permutation shuffles the data points \n",
    "  # dfs will clean the data by placing NaN at x-features that have no data \n",
    "  return dfs.reindex(np.random.permutation(dfs.index))"
   ]
  },
  {
   "cell_type": "code",
   "execution_count": 171,
   "metadata": {},
   "outputs": [
    {
     "name": "stdout",
     "output_type": "stream",
     "text": [
      "           Date     Price       RSI  Stedev from 20 MA  MACD n.f  50MA_N.F.  \\\n",
      "516  2013-05-16    108.96  0.442356          -0.765256 -0.789252  -0.364618   \n",
      "487  2013-04-17     67.85  0.428367          -1.246794 -1.098582  -0.232063   \n",
      "1292 2015-07-04    256.06  0.629606           1.151252  1.678114   1.818851   \n",
      "1555 2016-03-23    416.39  0.547678           0.763000 -0.302829   0.402991   \n",
      "2223 2018-01-20  11560.82  0.214762          -1.424122 -1.351608  -1.421821   \n",
      "\n",
      "      20D PMO  35D PMO        ADX  actions  y-hat  Unnamed: 11  Unnamed: 12  \n",
      "516    16.650     0.06  16.081979      NaN      2            1          NaN  \n",
      "487    37.995     2.52  41.100379      0.0      0            0          NaN  \n",
      "1292    1.410     0.25  22.460306      NaN      2            1          NaN  \n",
      "1555    2.465     0.08  25.931518      NaN      2            1          NaN  \n",
      "2223    4.865    -0.95  21.025905      NaN      2            1          NaN  \n"
     ]
    }
   ],
   "source": [
    "# randomizes the data and saves it in df\n",
    "df = shuffler('BTC daily_database.xlsx')\n",
    "\n",
    "# prints the first 5 rows of the data table\n",
    "print(df.head())"
   ]
  },
  {
   "cell_type": "markdown",
   "metadata": {},
   "source": [
    "## Input dataframe"
   ]
  },
  {
   "cell_type": "code",
   "execution_count": 172,
   "metadata": {},
   "outputs": [
    {
     "name": "stdout",
     "output_type": "stream",
     "text": [
      "inputX shape: (7, 2363)\n",
      "number of training samples = 2363\n",
      "number of variables = 7\n",
      "[[  0.44235608   0.4283674    0.62960623 ...,   0.79412744   0.91489362\n",
      "    0.4248519 ]\n",
      " [ -0.76525589  -1.24679374   1.15125196 ...,   1.68489429   2.46383243\n",
      "   -0.30144387]\n",
      " [ -0.78925172  -1.09858249   1.67811381 ...,   2.5891059    2.55774775\n",
      "    0.56777981]\n",
      " ..., \n",
      " [ 16.65        37.995        1.41       ...,  37.52         0.575       -6.86      ]\n",
      " [  0.06         2.52         0.25       ...,   4.98         0.21        -0.66      ]\n",
      " [ 16.08197877  41.10037922  22.46030628 ...,  27.67111225  28.53573139\n",
      "   14.74786053]]\n",
      "(1, 2363)\n"
     ]
    }
   ],
   "source": [
    "# converts to numpy array using as_matrix()\n",
    "# use iloc() to get location \n",
    "inputX = df.iloc[:,2:9 ].as_matrix()\n",
    "\n",
    "# transposes inputX\n",
    "inputX = inputX.T\n",
    "\n",
    "# converts to numpy array using as_matrix()\n",
    "# use iloc() to get location \n",
    "inputY = df.iloc[:, 10:11].as_matrix()\n",
    "\n",
    "# transposes inputY\n",
    "inputY = inputY.T\n",
    "\n",
    "print(\"inputX shape: \" + str(inputX.shape))\n",
    "print(\"number of training samples = \"+ str(inputX.shape[1]))\n",
    "print(\"number of variables = \" + str(inputX.shape[0]))\n",
    "print(inputX)\n",
    "print(inputY.shape)"
   ]
  },
  {
   "cell_type": "code",
   "execution_count": 173,
   "metadata": {},
   "outputs": [
    {
     "data": {
      "text/plain": [
       "array([[2, 0, 2, ..., 2, 2, 2]])"
      ]
     },
     "execution_count": 173,
     "metadata": {},
     "output_type": "execute_result"
    }
   ],
   "source": [
    "inputY"
   ]
  },
  {
   "cell_type": "markdown",
   "metadata": {},
   "source": [
    "## Seperating to train and test datasets"
   ]
  },
  {
   "cell_type": "code",
   "execution_count": 174,
   "metadata": {},
   "outputs": [
    {
     "name": "stdout",
     "output_type": "stream",
     "text": [
      "trainX's shape: (7, 1893)\n",
      "testX's shape: (7, 470)\n",
      "trainX's shape: (1, 1893)\n",
      "testY's shape: (1, 470)\n"
     ]
    }
   ],
   "source": [
    "# selects trainning data \n",
    "trainX = inputX[:, : -470]\n",
    "trainY = inputY[:, : -470]\n",
    "\n",
    "# selects test data \n",
    "testX = inputX[:, -470: ]\n",
    "testY = inputY[:, -470: ]\n",
    "\n",
    "# verifies the shapes \n",
    "print(\"trainX's shape: \" + str(trainX.shape))\n",
    "print(\"testX's shape: \" + str(testX.shape))\n",
    "print(\"trainX's shape: \" + str(trainY.shape))\n",
    "print(\"testY's shape: \" + str(testY.shape))\n"
   ]
  },
  {
   "cell_type": "markdown",
   "metadata": {},
   "source": [
    "## Layer size inputs "
   ]
  },
  {
   "cell_type": "code",
   "execution_count": 193,
   "metadata": {},
   "outputs": [
    {
     "name": "stdout",
     "output_type": "stream",
     "text": [
      "n_x's shape = 7\n",
      "first layer(n_h)'s shape = 100\n",
      "n_y's output = 1\n"
     ]
    }
   ],
   "source": [
    "# size of input layer\n",
    "n_x = inputX.shape[0]\n",
    "\n",
    "# amount of neuron for first hidden layer\n",
    "n_h = 100\n",
    "\n",
    "# output layer \n",
    "n_y = inputY.shape[0]\n",
    "\n",
    "print(\"n_x's shape = \" + str(n_x))\n",
    "print(\"first layer(n_h)'s shape = \" + str(n_h))\n",
    "print(\"n_y's output = \" + str(n_y))"
   ]
  },
  {
   "cell_type": "markdown",
   "metadata": {},
   "source": [
    "## Create placeholder\n"
   ]
  },
  {
   "cell_type": "code",
   "execution_count": 176,
   "metadata": {},
   "outputs": [],
   "source": [
    "# Creates the placeholders for the tensorflow session.\n",
    "def create_placeholders(n_x, n_y):\n",
    "    \n",
    "    # creates placholder for x and y that batch size can be any size\n",
    "    X = tf.placeholder(tf.float32, shape = [n_x,None])\n",
    "    Y = tf.placeholder(tf.float32, shape = [n_y, 1, None])  \n",
    "    return X, Y"
   ]
  },
  {
   "cell_type": "code",
   "execution_count": 177,
   "metadata": {},
   "outputs": [
    {
     "name": "stdout",
     "output_type": "stream",
     "text": [
      "X = Tensor(\"Placeholder_2:0\", shape=(7, ?), dtype=float32)\n",
      "(7, ?)\n",
      "Y = Tensor(\"Placeholder_3:0\", shape=(1, 1, ?), dtype=float32)\n"
     ]
    }
   ],
   "source": [
    "X, Y = create_placeholders(n_x,n_y)\n",
    "print (\"X = \" + str(X))\n",
    "print(X.shape)\n",
    "print (\"Y = \" + str(Y))"
   ]
  },
  {
   "cell_type": "markdown",
   "metadata": {},
   "source": [
    "## Initialize parameters"
   ]
  },
  {
   "cell_type": "code",
   "execution_count": 194,
   "metadata": {},
   "outputs": [],
   "source": [
    "#  Initializes weight parameters to build a neural network with tensorflow  \n",
    "def initialize_parameters(n_x, n_h):\n",
    "    #tf.set_random_seed()\n",
    "    \n",
    "    # Layer 1 (Input Layer)\n",
    "    W1 = tf.get_variable(\"W1\", [n_h,n_x], initializer=tf.contrib.layers.xavier_initializer(seed=0))\n",
    "    b1 = tf.get_variable(\"b1\", [n_h,1], initializer = tf.zeros_initializer())\n",
    "    \n",
    "    # Layer 2 (10 neurons)\n",
    "    W2 = tf.get_variable(\"W2\", [50, n_h], initializer=tf.contrib.layers.xavier_initializer(seed=0))\n",
    "    b2 = tf.get_variable(\"b2\", [50, 1], initializer = tf.zeros_initializer())\n",
    "    \n",
    "    # Layer 3 (25 neurons)\n",
    "    W3 = tf.get_variable(\"W3\", [25, 50], initializer=tf.contrib.layers.xavier_initializer(seed=0))\n",
    "    b3 = tf.get_variable(\"b3\", [25, 1], initializer = tf.zeros_initializer())\n",
    "    \n",
    "    # Layer 4 (10 neurons)\n",
    "    W4 = tf.get_variable(\"W4\", [12, 25], initializer=tf.contrib.layers.xavier_initializer(seed=0))\n",
    "    b4 = tf.get_variable(\"b4\", [12,1], initializer = tf.zeros_initializer())\n",
    "    \n",
    "    # Layer 5 (5 neurons)\n",
    "    W5 = tf.get_variable(\"W5\", [5, 12], initializer=tf.contrib.layers.xavier_initializer(seed=0))\n",
    "    b5 = tf.get_variable(\"b5\", [5,1], initializer = tf.zeros_initializer())\n",
    "    \n",
    "    # Layer 6 (5 neurons)\n",
    "#     W6 = tf.get_variable(\"W6\", [5, 5], initializer=tf.contrib.layers.xavier_initializer(seed=0))\n",
    "#     b6 = tf.get_variable(\"b6\", [5,1], initializer = tf.zeros_initializer())\n",
    "    #W7 = tf.get_variable(\"W7\", [5, 10], initializer=tf.contrib.layers.xavier_initializer(seed=0))\n",
    "    #b7 = tf.get_variable(\"b7\", [5,1], initializer = tf.zeros_initializer())\n",
    "    \n",
    "    # saves weights and bias for layers as a dictionary \n",
    "    parameters = {\"W1\": W1,\n",
    "                  \"b1\": b1,\n",
    "                  \"W2\": W2,\n",
    "                  \"b2\": b2,\n",
    "                  \"W3\": W3,\n",
    "                  \"b3\": b3,\n",
    "                  \"W4\": W4,\n",
    "                  \"b4\": b4,\n",
    "                  \"W5\": W5,\n",
    "                  \"b5\": b5}\n",
    "#                   \"W6\": W6,\n",
    "#                   \"b6\": b6}\n",
    "                  #\"W7\": W7,\n",
    "                  #\"b7\": b7}\n",
    "\n",
    "    return parameters"
   ]
  },
  {
   "cell_type": "code",
   "execution_count": 195,
   "metadata": {
    "scrolled": true
   },
   "outputs": [
    {
     "name": "stdout",
     "output_type": "stream",
     "text": [
      "W1 = <tf.Variable 'W1:0' shape=(100, 7) dtype=float32_ref>\n",
      "b1 = <tf.Variable 'b1:0' shape=(100, 1) dtype=float32_ref>\n",
      "W2 = <tf.Variable 'W2:0' shape=(50, 100) dtype=float32_ref>\n",
      "b2 = <tf.Variable 'b2:0' shape=(50, 1) dtype=float32_ref>\n",
      "W3 = <tf.Variable 'W3:0' shape=(25, 50) dtype=float32_ref>\n",
      "b3 = <tf.Variable 'b3:0' shape=(25, 1) dtype=float32_ref>\n",
      "W4 = <tf.Variable 'W4:0' shape=(12, 25) dtype=float32_ref>\n",
      "b4 = <tf.Variable 'b4:0' shape=(12, 1) dtype=float32_ref>\n",
      "W5 = <tf.Variable 'W5:0' shape=(5, 12) dtype=float32_ref>\n",
      "b5 = <tf.Variable 'b5:0' shape=(5, 1) dtype=float32_ref>\n"
     ]
    }
   ],
   "source": [
    "# Checking the shape of the weights and bias \n",
    "tf.reset_default_graph()\n",
    "\n",
    "with tf.Session() as sess:\n",
    "    parameters = initialize_parameters(n_x, n_h)\n",
    "    print(\"W1 = \" + str(parameters[\"W1\"]))\n",
    "    print(\"b1 = \" + str(parameters[\"b1\"]))\n",
    "    print(\"W2 = \" + str(parameters[\"W2\"]))\n",
    "    print(\"b2 = \" + str(parameters[\"b2\"]))\n",
    "    print(\"W3 = \" + str(parameters[\"W3\"]))\n",
    "    print(\"b3 = \" + str(parameters[\"b3\"]))\n",
    "    print(\"W4 = \" + str(parameters[\"W4\"]))\n",
    "    print(\"b4 = \" + str(parameters[\"b4\"]))\n",
    "    print(\"W5 = \" + str(parameters[\"W5\"]))\n",
    "    print(\"b5 = \" + str(parameters[\"b5\"]))\n",
    "#     print(\"W6 = \" + str(parameters[\"W6\"]))\n",
    "#     print(\"b6 = \" + str(parameters[\"b6\"]))\n",
    "    #print(\"W7 = \" + str(parameters[\"W7\"]))\n",
    "    #print(\"b7 = \" + str(parameters[\"b7\"]))"
   ]
  },
  {
   "cell_type": "markdown",
   "metadata": {},
   "source": [
    "## One hot matrix"
   ]
  },
  {
   "cell_type": "code",
   "execution_count": 180,
   "metadata": {},
   "outputs": [],
   "source": [
    "def one_hot_matrix(labels, C):\n",
    "    \"\"\"\n",
    "    Creates a matrix where the i-th row corresponds to the ith class number and the jth column\n",
    "                     corresponds to the jth training example. So if example j had a label i. Then entry (i,j) \n",
    "                     will be 1. \n",
    "                     \n",
    "    Arguments:\n",
    "    labels -- vector containing the labels \n",
    "    C -- number of classes, the depth of the one hot dimension\n",
    "    \n",
    "    Returns: \n",
    "    one_hot -- one hot matrix\n",
    "    \"\"\"\n",
    "    # Create a tf.constant equal to C (depth), name it 'C'. (approx. 1 line)\n",
    "    C = tf.constant(C, name = \"C\")\n",
    "    \n",
    "    # Use tf.one_hot, be careful with the axis (approx. 1 line)\n",
    "    one_hot_matrix = tf.one_hot(indices = labels, depth = C,axis  =0)\n",
    "    \n",
    "    # Create the session (approx. 1 line)\n",
    "    sess = tf.Session()\n",
    "    \n",
    "    # Run the session (approx. 1 line)\n",
    "    one_hot = sess.run(one_hot_matrix)\n",
    "    \n",
    "    # Close the session (approx. 1 line). See method 1 above.\n",
    "    sess.close()\n",
    "    \n",
    "    return one_hot"
   ]
  },
  {
   "cell_type": "code",
   "execution_count": 181,
   "metadata": {},
   "outputs": [
    {
     "name": "stdout",
     "output_type": "stream",
     "text": [
      "one_hot = [[ 0.  0.  0.  1.  0.  0.]\n",
      " [ 1.  0.  0.  0.  0.  1.]\n",
      " [ 0.  1.  0.  0.  1.  0.]\n",
      " [ 0.  0.  1.  0.  0.  0.]]\n"
     ]
    }
   ],
   "source": [
    "# Testing one_hot\n",
    "labels = np.array([1,2,3,0,2,1])\n",
    "one_hot = one_hot_matrix(labels, C = 4)\n",
    "print (\"one_hot = \" + str(one_hot))"
   ]
  },
  {
   "cell_type": "markdown",
   "metadata": {},
   "source": [
    "## Convert Y-hat to softmax matrix"
   ]
  },
  {
   "cell_type": "code",
   "execution_count": 182,
   "metadata": {},
   "outputs": [
    {
     "name": "stdout",
     "output_type": "stream",
     "text": [
      "Y = \n",
      "[[[ 0.  1.  0. ...,  0.  0.  0.]]\n",
      "\n",
      " [[ 0.  0.  0. ...,  0.  0.  1.]]\n",
      "\n",
      " [[ 1.  0.  1. ...,  1.  1.  0.]]\n",
      "\n",
      " [[ 0.  0.  0. ...,  0.  0.  0.]]\n",
      "\n",
      " [[ 0.  0.  0. ...,  0.  0.  0.]]]\n",
      "trainY-shape = (5, 1, 1893)\n",
      "testY-shape = (5, 1, 470)\n"
     ]
    }
   ],
   "source": [
    "# use one_hot on trainY and testY\n",
    "trainY = one_hot_matrix(trainY, C = 5)\n",
    "testY = one_hot_matrix(testY, C = 5)\n",
    "\n",
    "print(\"Y = \")\n",
    "print(trainY)\n",
    "\n",
    "print(\"trainY-shape = \" + str(trainY.shape))\n",
    "print(\"testY-shape = \" + str(testY.shape))"
   ]
  },
  {
   "cell_type": "markdown",
   "metadata": {},
   "source": [
    "## Forward Propagation"
   ]
  },
  {
   "cell_type": "code",
   "execution_count": 196,
   "metadata": {},
   "outputs": [],
   "source": [
    "def forward_propagation(X, parameters):\n",
    "    \"\"\"\n",
    "    Implements the forward propagation for the model:\n",
    "    \n",
    "    Arguments:\n",
    "    X -- input dataset placeholder, of shape (input size, number of examples)\n",
    "    parameters -- python dictionary containing your parameters \"W1\", \"b1\", \"W2\", \"b2\", \"W3\", \"b3\", \"W4\", \"b4\"\n",
    "                  the shapes are given in initialize_parameters\n",
    "\n",
    "    Returns:\n",
    "    Z4 -- the output of the last LINEAR unit\n",
    "    \"\"\"\n",
    "    \n",
    "    # Retrieve the parameters from the dictionary \"parameters\" \n",
    "    W1 = parameters['W1']\n",
    "    b1 = parameters['b1']\n",
    "    W2 = parameters['W2']\n",
    "    b2 = parameters['b2']\n",
    "    W3 = parameters['W3']\n",
    "    b3 = parameters['b3']\n",
    "    W4 = parameters['W4']\n",
    "    b4 = parameters['b4']\n",
    "    W5 = parameters['W5']\n",
    "    b5 = parameters['b5'] \n",
    "#     W6 = parameters['W6']\n",
    "#     b6 = parameters['b6'] \n",
    "    #W7 = parameters['W7']\n",
    "    #b7 = parameters['b7'] \n",
    "    \n",
    "    # Input Layer (Sigmoid)\n",
    "    Z1 = tf.add(tf.matmul(W1,X) , b1)\n",
    "    A1 = tf.nn.tanh(Z1)\n",
    "    \n",
    "    # 1st Hidden Layer (Sigmoid)\n",
    "    Z2 = tf.add(tf.matmul(W2,A1), b2 )  \n",
    "    dropout1 = tf.nn.dropout(Z2, keep_prob = 0.5)\n",
    "    A2 = tf.nn.sigmoid(dropout1)\n",
    "    \n",
    "    # 2nd Hidden Layer (Selu)\n",
    "    Z3 = tf.add(tf.matmul(W3,A2), b3)\n",
    "    dropout2 = tf.nn.dropout(Z3, keep_prob = 0.7)\n",
    "    A3 = tf.nn.selu(dropout2) \n",
    "    \n",
    "    # 3rd Hidden Layer (Selu)\n",
    "    Z4 = tf.add(tf.matmul(W4,A3), b4)    \n",
    "    dropout3 = tf.nn.dropout(Z4, keep_prob = 0.9)\n",
    "    A4 = tf.nn.selu(dropout3)             \n",
    "    \n",
    "    # 4th Hidden Layer (tanh)\n",
    "    Z5 = tf.add(tf.matmul(W5,A4), b5)\n",
    "#     dropout4 = tf.nn.dropout(Z5, keep_prob = 1)\n",
    "#     A5 = tf.nn.tanh(Z5)  \n",
    "    \n",
    "#     # Output Layer\n",
    "#     Z6 = tf.add(tf.matmul(W6,A5), b6)                                 \n",
    "    #A6 = tf.nn.relu(Z6)                                              \n",
    "    #Z7 = tf.add(tf.matmul(W7,A6), b7)                                \n",
    "    return Z5\n",
    "    "
   ]
  },
  {
   "cell_type": "markdown",
   "metadata": {},
   "source": [
    "## Compute Cost"
   ]
  },
  {
   "cell_type": "code",
   "execution_count": 184,
   "metadata": {},
   "outputs": [],
   "source": [
    "def compute_cost(Z, Y):\n",
    "    \"\"\"\n",
    "    Computes the cost\n",
    "    \n",
    "    Arguments:\n",
    "    Z4 -- output of forward propagation (output of the last LINEAR unit), of shape (6, number of examples)\n",
    "    Y -- \"true\" labels vector placeholder, same shape as Z4\n",
    "    \n",
    "    Returns:\n",
    "    cost - Tensor of the cost function\n",
    "    \"\"\"\n",
    "    \n",
    "    # to fit the tensorflow requirement for tf.nn.softmax_cross_entropy_with_logits(...,...)\n",
    "    logits = tf.transpose(Z)\n",
    "    labels = tf.transpose(Y)\n",
    "    \n",
    "    #compute cost\n",
    "    cost = tf.reduce_mean(tf.nn.softmax_cross_entropy_with_logits(logits = logits, labels = labels))\n",
    "    \n",
    "    return cost"
   ]
  },
  {
   "cell_type": "code",
   "execution_count": 185,
   "metadata": {},
   "outputs": [
    {
     "name": "stdout",
     "output_type": "stream",
     "text": [
      "cost = Tensor(\"Mean:0\", shape=(), dtype=float32)\n"
     ]
    }
   ],
   "source": [
    "tf.reset_default_graph()\n",
    "\n",
    "with tf.Session() as sess:\n",
    "    X, Y = create_placeholders(4, 1)\n",
    "    parameters = initialize_parameters(4,1)\n",
    "    Z1 = forward_propagation(X, parameters)\n",
    "    cost = compute_cost(Z1, Y)\n",
    "    print(\"cost = \" + str(cost))"
   ]
  },
  {
   "cell_type": "markdown",
   "metadata": {},
   "source": [
    "## Creating Mini-batches"
   ]
  },
  {
   "cell_type": "code",
   "execution_count": 186,
   "metadata": {},
   "outputs": [],
   "source": [
    "\n",
    "def random_mini_batches(X, Y, mini_batch_size = 64, seed = 0):\n",
    "    \"\"\"\n",
    "    Creates a list of random minibatches from (X, Y)\n",
    "\n",
    "    Arguments:\n",
    "    X -- input data, of shape (input size, number of examples)\n",
    "    Y -- true \"label\" vector (1 for blue dot / 0 for red dot), of shape (1, number of examples)\n",
    "    mini_batch_size -- size of the mini-batches, integer\n",
    "\n",
    "    Returns:\n",
    "    mini_batches -- list of synchronous (mini_batch_X, mini_batch_Y)\n",
    "    \"\"\"\n",
    "\n",
    "    np.random.seed(seed)            # To make your \"random\" minibatches the same as ours\n",
    "    m = X.shape[1]                  # number of training examples\n",
    "    mini_batches = []\n",
    "    \n",
    "    # Step 1: Shuffle (X, Y)\n",
    "    #permutation = list(np.random.permutation(m))\n",
    "    #shuffled_X = X[:, permutation]\n",
    "    #shuffled_Y = Y[:, 1, permutation]\n",
    "    \n",
    "    # Step 2: Partition (shuffled_X, shuffled_Y). Minus the end case.\n",
    "    num_complete_minibatches = math.floor(m/mini_batch_size) # number of mini batches of size mini_batch_size in your partitionning\n",
    "    for k in range(0, num_complete_minibatches):\n",
    "        ### START CODE HERE ### (approx. 2 lines)\n",
    "        mini_batch_X = X[:, k*mini_batch_size : (k+1)*mini_batch_size]\n",
    "        mini_batch_Y = Y[:,:, k*mini_batch_size : (k+1)*mini_batch_size]\n",
    "        ### END CODE HERE ###\n",
    "        mini_batch = (mini_batch_X, mini_batch_Y)\n",
    "        mini_batches.append(mini_batch)\n",
    "\n",
    "    # Handling the end case (last mini-batch < mini_batch_size)\n",
    "    if m % mini_batch_size != 0:\n",
    "        ### START CODE HERE ### (approx. 2 lines)\n",
    "        mini_batch_X = X[:, num_complete_minibatches*mini_batch_size : m]\n",
    "        mini_batch_Y = Y[:,:, num_complete_minibatches*mini_batch_size : m]\n",
    "        ### END CODE HERE ###\n",
    "        mini_batch = (mini_batch_X, mini_batch_Y)\n",
    "        mini_batches.append(mini_batch)\n",
    "\n",
    "    return mini_batches"
   ]
  },
  {
   "cell_type": "code",
   "execution_count": 187,
   "metadata": {},
   "outputs": [
    {
     "name": "stdout",
     "output_type": "stream",
     "text": [
      "shape of the 1st mini_batch_X: (7, 64)\n",
      "shape of the 2nd mini_batch_X: (7, 64)\n",
      "shape of the 3rd mini_batch_X: (7, 64)\n",
      "shape of the last mini_batch_X: (7, 37)\n",
      "shape of the 1st mini_batch_Y: (5, 1, 64)\n",
      "shape of the 2nd mini_batch_Y: (5, 1, 64)\n",
      "shape of the 3rd mini_batch_Y: (5, 1, 64)\n",
      "shape of the last mini_batch_Y: (5, 1, 37)\n"
     ]
    }
   ],
   "source": [
    "mini_batches = random_mini_batches(trainX, trainY, 64, seed=0)\n",
    "\n",
    "print (\"shape of the 1st mini_batch_X: \" + str(mini_batches[0][0].shape))\n",
    "print (\"shape of the 2nd mini_batch_X: \" + str(mini_batches[1][0].shape))\n",
    "print (\"shape of the 3rd mini_batch_X: \" + str(mini_batches[2][0].shape))\n",
    "print (\"shape of the last mini_batch_X: \" + str(mini_batches[-1][0].shape))\n",
    "print (\"shape of the 1st mini_batch_Y: \" + str(mini_batches[0][1].shape))\n",
    "print (\"shape of the 2nd mini_batch_Y: \" + str(mini_batches[1][1].shape)) \n",
    "print (\"shape of the 3rd mini_batch_Y: \" + str(mini_batches[2][1].shape))\n",
    "print (\"shape of the last mini_batch_Y: \" + str(mini_batches[-1][1].shape))\n",
    "#print (\"mini batch sanity check: \")\n",
    "#mini_batches[0][1]\n"
   ]
  },
  {
   "cell_type": "markdown",
   "metadata": {},
   "source": [
    "## Building the model "
   ]
  },
  {
   "cell_type": "code",
   "execution_count": 188,
   "metadata": {},
   "outputs": [],
   "source": [
    "def model(trainX, trainY, testX, testY, learning_rate = 0.0013,\n",
    "          num_epochs = 2200, minibatch_size = 64, print_cost = True, beta = 0.01, beta1 = 0.9, beta2 = 0.999,  epsilon = 1e-8):\n",
    "    \"\"\"\n",
    "    Implements a three-layer tensorflow neural network: LINEAR->RELU->LINEAR->RELU->LINEAR->SOFTMAX.\n",
    "    \n",
    "    learning_rate -- learning rate of the optimization\n",
    "    num_epochs -- number of epochs of the optimization loop\n",
    "    minibatch_size -- size of a minibatch\n",
    "    print_cost -- True to print the cost every 100 epochs\n",
    "    \n",
    "    Returns:\n",
    "    parameters -- parameters learnt by the model. They can then be used to predict.\n",
    "    \"\"\"\n",
    "    \n",
    "    ops.reset_default_graph()                         # to be able to rerun the model without overwriting tf variables\n",
    "    tf.set_random_seed(1)                             # to keep consistent results\n",
    "    seed = 3                                          # to keep consistent results\n",
    "    (n_x, m) = trainX.shape                                # (n_x: input size, m : number of examples in the train set)\n",
    "    n_y = trainY.shape[0]                                  # n_y : output size\n",
    "    costs = []                                        # To keep track of the cost\n",
    "    \n",
    "    # Create Placeholders of shape (n_x, n_y)\n",
    "    X, Y = create_placeholders(n_x, n_y)\n",
    "\n",
    "    # Initialize parameters\n",
    "    parameters = initialize_parameters(n_x, n_h)\n",
    "\n",
    "    # Getting Weights for Regularization \n",
    "    W1 = parameters['W1']\n",
    "    W2 = parameters['W2']\n",
    "    W3 = parameters['W3']\n",
    "    W4 = parameters['W4']\n",
    "    W5 = parameters['W5']\n",
    "#     W6 = parameters['W6']\n",
    "    \n",
    "    # Forward propagation: Build the forward propagation in the tensorflow graph\n",
    "    Z = forward_propagation(X, parameters)\n",
    "    \n",
    "    # Regularization Term For Cost Function\n",
    "    regularizers = tf.nn.l2_loss(W1) + tf.nn.l2_loss(W2) + tf.nn.l2_loss(W3) + tf.nn.l2_loss(W4) + tf.nn.l2_loss(W5)\n",
    "\n",
    "    # Cost function: Add cost function to tensorflow graph\n",
    "    cost = compute_cost(Z,Y) + (beta * regularizers)\n",
    "    \n",
    "#     # Cost function: Add cost function to tensorflow graph\n",
    "#     cost = compute_cost(Z,Y)\n",
    "#     print(parameters)\n",
    "\n",
    "    # Backpropagation: Define the tensorflow optimizer. Use an AdamOptimizer.\n",
    "    optimizer = tf.train.AdamOptimizer(learning_rate = learning_rate, beta1 = beta1 , beta2 = beta2, epsilon = epsilon ).minimize(cost)\n",
    "\n",
    "#      STACK OVERFLOW\n",
    "#     optimizer = tf.train.AdamOptimizer(learning_rate = learning_rate, beta1 = beta1 , beta2 = beta2, epsilon = epsilon )\n",
    "#     gvs = optimizer.compute_gradients(cost)\n",
    "#     capped_gvs = [(tf.clip_by_value(grad, -1., 1.), var) for grad, var in gvs]\n",
    "#     train_op = optimizer.apply_gradients(capped_gvs)\n",
    "\n",
    "\n",
    "#     optimizer = tf.train.GradientDescentOptimizer(learning_rate)\n",
    "#     grads_and_vars = optimizer.compute_gradients(cost)\n",
    "#     capped_gvs = [(tf.clip_by_value(grad, -1, 1), var) for grad, var in grads_and_vars]\n",
    "#     training_op = optimizer.apply_gradients(capped_gvs)\n",
    "    \n",
    "    # Initialize all the variables\n",
    "    init = tf.global_variables_initializer()\n",
    "\n",
    "    # Start the session to compute the tensorflow graph\n",
    "    with tf.Session() as sess:\n",
    "\n",
    "        # Run the initialization\n",
    "        sess.run(init)\n",
    "\n",
    "        # Do the training loop\n",
    "        for epoch in range(num_epochs):\n",
    "\n",
    "            epoch_cost = 0.                       # Defines a cost related to an epoch\n",
    "            num_minibatches = int(m / minibatch_size) # number of minibatches of size minibatch_size in the train set\n",
    "            seed = seed + 1\n",
    "            minibatches = random_mini_batches(trainX, trainY, minibatch_size, seed)\n",
    "\n",
    "            for minibatch in minibatches:\n",
    "\n",
    "                # Select a minibatch\n",
    "                (minibatch_X, minibatch_Y) = minibatch\n",
    "\n",
    "                # IMPORTANT: The line that runs the graph on a minibatch.\n",
    "                # Run the session to execute the \"optimizer\" and the \"cost\", the feedict should contain a minibatch for (X,Y).\n",
    "                _ , minibatch_cost = sess.run([optimizer, cost], feed_dict={X: minibatch_X, Y: minibatch_Y})\n",
    "\n",
    "                epoch_cost += minibatch_cost / num_minibatches\n",
    "\n",
    "            # Print the cost every epoch\n",
    "            if print_cost == True and epoch % 100 == 0:\n",
    "                print (\"Cost after epoch %i: %f\" % (epoch, epoch_cost))\n",
    "            if print_cost == True and epoch % 5 == 0:\n",
    "                costs.append(epoch_cost)\n",
    "\n",
    "        # plot the cost\n",
    "        plt.plot(np.squeeze(costs))\n",
    "        plt.ylabel('cost')\n",
    "        plt.xlabel('iterations (per tens)')\n",
    "        plt.title(\"Learning rate =\" + str(learning_rate))\n",
    "        plt.show()\n",
    "\n",
    "        # lets save the parameters in a variable\n",
    "        parameters = sess.run(parameters)\n",
    "        print (\"Parameters have been trained!\")\n",
    "\n",
    "        # Calculate the correct predictions\n",
    "        correct_prediction = tf.equal(tf.argmax(Z), tf.argmax(Y))\n",
    "\n",
    "        # Calculate accuracy on the test set\n",
    "        accuracy = tf.reduce_mean(tf.cast(correct_prediction, \"float\"))\n",
    "        print (\"Train Accuracy:\", accuracy.eval({X: trainX, Y: trainY}))\n",
    "        print (\"Test Accuracy:\", accuracy.eval({X: testX, Y: testY}))\n",
    "        return parameters"
   ]
  },
  {
   "cell_type": "code",
   "execution_count": 131,
   "metadata": {},
   "outputs": [
    {
     "name": "stdout",
     "output_type": "stream",
     "text": [
      "Cost after epoch 0: 0.595620\n",
      "Cost after epoch 100: 0.300167\n",
      "Cost after epoch 200: 0.267731\n",
      "Cost after epoch 300: 0.237797\n",
      "Cost after epoch 400: 0.214211\n",
      "Cost after epoch 500: 0.203959\n",
      "Cost after epoch 600: 0.170804\n",
      "Cost after epoch 700: 0.162433\n",
      "Cost after epoch 800: 0.145940\n",
      "Cost after epoch 900: 0.161185\n",
      "Cost after epoch 1000: 0.138440\n",
      "Cost after epoch 1100: 0.137553\n",
      "Cost after epoch 1200: 0.114303\n",
      "Cost after epoch 1300: 0.106283\n",
      "Cost after epoch 1400: 0.105118\n",
      "Cost after epoch 1500: 0.096455\n",
      "Cost after epoch 1600: 0.117925\n",
      "Cost after epoch 1700: 0.106116\n",
      "Cost after epoch 1800: 0.089228\n",
      "Cost after epoch 1900: 0.075844\n",
      "Cost after epoch 2000: 0.089822\n",
      "Cost after epoch 2100: 0.081174\n"
     ]
    },
    {
     "data": {
      "image/png": "[encoded data removed]",
      "text/plain": [
       "<Figure size 432x288 with 1 Axes>"
      ]
     },
     "metadata": {},
     "output_type": "display_data"
    },
    {
     "name": "stdout",
     "output_type": "stream",
     "text": [
      "Parameters have been trained!\n",
      "Train Accuracy: 0.976228\n",
      "Test Accuracy: 0.951064\n"
     ]
    }
   ],
   "source": [
    "# Testing diff layer 80, 40, 20, 10 beta = 0.00001\n",
    "# adding dropout  0.5, 0.6, 0.7, 1\n",
    "parameters = model(trainX, trainY, testX,testY, beta = 0.00001, beta1 = 0.9, beta2 = 0.999,  epsilon = 1e-8)"
   ]
  },
  {
   "cell_type": "code",
   "execution_count": 162,
   "metadata": {},
   "outputs": [
    {
     "name": "stdout",
     "output_type": "stream",
     "text": [
      "Cost after epoch 0: 0.595620\n",
      "Cost after epoch 100: 0.300167\n",
      "Cost after epoch 200: 0.267731\n",
      "Cost after epoch 300: 0.237797\n",
      "Cost after epoch 400: 0.214211\n",
      "Cost after epoch 500: 0.203959\n",
      "Cost after epoch 600: 0.170804\n",
      "Cost after epoch 700: 0.162433\n",
      "Cost after epoch 800: 0.145940\n",
      "Cost after epoch 900: 0.161185\n",
      "Cost after epoch 1000: 0.138440\n",
      "Cost after epoch 1100: 0.137553\n",
      "Cost after epoch 1200: 0.114303\n",
      "Cost after epoch 1300: 0.106283\n",
      "Cost after epoch 1400: 0.105118\n",
      "Cost after epoch 1500: 0.096455\n",
      "Cost after epoch 1600: 0.117925\n",
      "Cost after epoch 1700: 0.106116\n",
      "Cost after epoch 1800: 0.089228\n",
      "Cost after epoch 1900: 0.075844\n",
      "Cost after epoch 2000: 0.089822\n",
      "Cost after epoch 2100: 0.081174\n",
      "Cost after epoch 2200: 0.086657\n",
      "Cost after epoch 2300: 0.075729\n",
      "Cost after epoch 2400: 0.086448\n",
      "Cost after epoch 2500: 0.060799\n",
      "Cost after epoch 2600: 0.069096\n",
      "Cost after epoch 2700: 0.071403\n",
      "Cost after epoch 2800: 0.070404\n",
      "Cost after epoch 2900: 0.061502\n"
     ]
    },
    {
     "data": {
      "image/png": "[encoded data removed]",
      "text/plain": [
       "<Figure size 432x288 with 1 Axes>"
      ]
     },
     "metadata": {},
     "output_type": "display_data"
    },
    {
     "name": "stdout",
     "output_type": "stream",
     "text": [
      "Parameters have been trained!\n",
      "Train Accuracy: 0.985209\n",
      "Test Accuracy: 0.940426\n"
     ]
    }
   ],
   "source": [
    "# Testing diff layer 80, 40, 20, 10 beta = 0.00001\n",
    "# epoch = 3000\n",
    "# adding dropout  0.5, 0.7, 0.9, 1\n",
    "parameters = model(trainX, trainY, testX,testY, num_epochs = 3000, beta = 0.00001, beta1 = 0.9, beta2 = 0.999,  epsilon = 1e-8)"
   ]
  },
  {
   "cell_type": "code",
   "execution_count": 197,
   "metadata": {},
   "outputs": [
    {
     "name": "stdout",
     "output_type": "stream",
     "text": [
      "Cost after epoch 0: 0.733343\n",
      "Cost after epoch 100: 0.305039\n",
      "Cost after epoch 200: 0.229869\n",
      "Cost after epoch 300: 0.192603\n",
      "Cost after epoch 400: 0.171347\n",
      "Cost after epoch 500: 0.143735\n",
      "Cost after epoch 600: 0.143636\n",
      "Cost after epoch 700: 0.141848\n",
      "Cost after epoch 800: 0.103204\n",
      "Cost after epoch 900: 0.093616\n",
      "Cost after epoch 1000: 0.104289\n",
      "Cost after epoch 1100: 0.123398\n",
      "Cost after epoch 1200: 0.089121\n",
      "Cost after epoch 1300: 0.087974\n",
      "Cost after epoch 1400: 0.066322\n",
      "Cost after epoch 1500: 0.085061\n",
      "Cost after epoch 1600: 0.065599\n",
      "Cost after epoch 1700: 0.065592\n",
      "Cost after epoch 1800: 0.061806\n",
      "Cost after epoch 1900: 0.068376\n",
      "Cost after epoch 2000: 0.084125\n",
      "Cost after epoch 2100: 0.099822\n",
      "Cost after epoch 2200: 0.077807\n",
      "Cost after epoch 2300: 0.051672\n",
      "Cost after epoch 2400: 0.062758\n",
      "Cost after epoch 2500: 0.037910\n",
      "Cost after epoch 2600: 0.048269\n",
      "Cost after epoch 2700: 0.041251\n",
      "Cost after epoch 2800: 0.043633\n",
      "Cost after epoch 2900: 0.062958\n"
     ]
    },
    {
     "data": {
      "image/png": "[encoded data removed]",
      "text/plain": [
       "<Figure size 432x288 with 1 Axes>"
      ]
     },
     "metadata": {},
     "output_type": "display_data"
    },
    {
     "name": "stdout",
     "output_type": "stream",
     "text": [
      "Parameters have been trained!\n",
      "Train Accuracy: 0.985209\n",
      "Test Accuracy: 0.929787\n"
     ]
    }
   ],
   "source": [
    "# Testing diff layer 100, 50, 25, 12, 5 beta = 0.00001\n",
    "# epoch = 3000\n",
    "# adding dropout  0.5, 0.7, 0.9, 1, 1\n",
    "parameters = model(trainX, trainY, testX,testY, num_epochs = 3000, beta = 0.00001, beta1 = 0.9, beta2 = 0.999,  epsilon = 1e-8)"
   ]
  },
  {
   "cell_type": "code",
   "execution_count": null,
   "metadata": {},
   "outputs": [],
   "source": []
  }
 ],
 "metadata": {
  "kernelspec": {
   "display_name": "Python 3",
   "language": "python",
   "name": "python3"
  },
  "language_info": {
   "codemirror_mode": {
    "name": "ipython",
    "version": 3
   },
   "file_extension": ".py",
   "mimetype": "text/x-python",
   "name": "python",
   "nbconvert_exporter": "python",
   "pygments_lexer": "ipython3",
   "version": "3.6.5"
  }
 },
 "nbformat": 4,
 "nbformat_minor": 2
}
